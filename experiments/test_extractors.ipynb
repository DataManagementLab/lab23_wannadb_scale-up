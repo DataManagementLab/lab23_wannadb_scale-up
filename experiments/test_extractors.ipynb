{
 "cells": [
  {
   "cell_type": "markdown",
   "metadata": {
    "collapsed": true,
    "pycharm": {
     "name": "#%% md\n"
    }
   },
   "source": [
    "# Evaluate quality of different extractors on different data sets"
   ]
  },
  {
   "cell_type": "code",
   "execution_count": 1,
   "outputs": [
    {
     "name": "stdout",
     "output_type": "stream",
     "text": [
      "D:\\repo\\aset-dev\n"
     ]
    }
   ],
   "source": [
    "%cd .."
   ],
   "metadata": {
    "collapsed": false,
    "pycharm": {
     "name": "#%%\n"
    }
   }
  },
  {
   "cell_type": "code",
   "execution_count": 2,
   "outputs": [],
   "source": [
    "import logging.config\n",
    "\n",
    "import pandas as pd\n",
    "\n",
    "from aset.configuration import ASETPipeline\n",
    "from aset.preprocessing.extraction import StanzaNERExtractor, FigerNERExtractor, SpacyNERExtractor\n",
    "from aset.resources import ResourceManager\n",
    "from aset.statistics import Statistics\n",
    "from aset.data.data import ASETAttribute, ASETDocument, ASETDocumentBase\n",
    "from aset.interaction import EmptyInteractionCallback, InteractionCallback\n",
    "from aset.status import EmptyStatusCallback\n",
    "from experiments.util import consider_overlap_as_match"
   ],
   "metadata": {
    "collapsed": false,
    "pycharm": {
     "name": "#%%\n"
    }
   }
  },
  {
   "cell_type": "code",
   "execution_count": 3,
   "outputs": [],
   "source": [
    "from datasets.aaai import aaai\n",
    "from datasets.corona import corona\n",
    "from datasets.aviation import aviation\n",
    "from datasets.countries import countries\n",
    "from datasets.nobel import nobel\n",
    "from datasets.skyscrapers import skyscrapers"
   ],
   "metadata": {
    "collapsed": false,
    "pycharm": {
     "name": "#%%\n"
    }
   }
  },
  {
   "cell_type": "code",
   "execution_count": 4,
   "outputs": [],
   "source": [
    "resource_manager = ResourceManager()"
   ],
   "metadata": {
    "collapsed": false,
    "pycharm": {
     "name": "#%%\n"
    }
   }
  },
  {
   "cell_type": "code",
   "execution_count": 4,
   "outputs": [],
   "source": [
    "logging.basicConfig(level=logging.INFO, format=\"%(asctime)s - %(name)s - %(levelname)s - %(message)s\")\n",
    "logger = logging.getLogger()"
   ],
   "metadata": {
    "collapsed": false,
    "pycharm": {
     "name": "#%%\n"
    }
   }
  },
  {
   "cell_type": "code",
   "execution_count": 5,
   "outputs": [],
   "source": [
    "DATASETS = [('aaai', aaai), ('aviation', aviation), ('corona', corona), ('countries', countries), ('nobel', nobel), ('skyscrapers', skyscrapers)]"
   ],
   "metadata": {
    "collapsed": false,
    "pycharm": {
     "name": "#%%\n"
    }
   }
  },
  {
   "cell_type": "code",
   "execution_count": 6,
   "outputs": [
    {
     "name": "stderr",
     "output_type": "stream",
     "text": [
      "2022-02-27 19:46:59,691 - aset.resources - INFO - Load resource 'FigerAPI'.\n",
      "2022-02-27 19:46:59,809 - aset.resources - INFO - Loaded resource 'FigerAPI' in 0.1169741153717041 seconds.\n"
     ]
    }
   ],
   "source": [
    "EXTRACTORS = [('Stanza', StanzaNERExtractor()), ('SpacyEnCoreWebLg', SpacyNERExtractor('SpacyEnCoreWebLg')), ('SpacyEnCoreSciMd', SpacyNERExtractor('SpacyEnCoreSciMd'))]\n",
    "#EXTRACTORS = [('FIGER', FigerNERExtractor())]"
   ],
   "metadata": {
    "collapsed": false,
    "pycharm": {
     "name": "#%%\n"
    }
   }
  },
  {
   "cell_type": "code",
   "execution_count": 7,
   "outputs": [
    {
     "name": "stderr",
     "output_type": "stream",
     "text": [
      "2022-02-27 19:47:02,539 - aset.configuration - INFO - Execute the pipeline.\n",
      "2022-02-27 19:47:02,540 - aset.status - INFO - Running the pipeline... ~%\n",
      "2022-02-27 19:47:02,540 - aset.configuration - INFO - Execute FigerNERExtractor.\n",
      "2022-02-27 19:47:02,541 - aset.status - INFO - Running FigerNERExtractor... ~%\n",
      "2022-02-27 19:47:02,541 - aset.status - INFO - Running FigerNERExtractor... 0%\n",
      "2022-02-27 19:48:57,967 - aset.status - INFO - Running FigerNERExtractor... 5%\n",
      "2022-02-27 19:48:59,722 - aset.status - INFO - Running FigerNERExtractor... 10%\n",
      "2022-02-27 19:49:01,897 - aset.status - INFO - Running FigerNERExtractor... 15%\n",
      "2022-02-27 19:49:07,446 - aset.status - INFO - Running FigerNERExtractor... 19%\n",
      "2022-02-27 19:49:09,352 - aset.status - INFO - Running FigerNERExtractor... 24%\n",
      "2022-02-27 19:49:12,021 - aset.status - INFO - Running FigerNERExtractor... 29%\n",
      "2022-02-27 19:49:13,949 - aset.status - INFO - Running FigerNERExtractor... 34%\n",
      "2022-02-27 19:49:14,735 - aset.status - INFO - Running FigerNERExtractor... 39%\n",
      "2022-02-27 19:49:15,799 - aset.status - INFO - Running FigerNERExtractor... 44%\n",
      "2022-02-27 19:49:17,593 - aset.status - INFO - Running FigerNERExtractor... 48%\n",
      "2022-02-27 19:49:18,822 - aset.status - INFO - Running FigerNERExtractor... 53%\n",
      "2022-02-27 19:49:19,925 - aset.status - INFO - Running FigerNERExtractor... 58%\n",
      "2022-02-27 19:49:20,750 - aset.status - INFO - Running FigerNERExtractor... 63%\n",
      "2022-02-27 19:49:21,701 - aset.status - INFO - Running FigerNERExtractor... 68%\n",
      "2022-02-27 19:49:23,415 - aset.status - INFO - Running FigerNERExtractor... 73%\n",
      "2022-02-27 19:49:26,014 - aset.status - INFO - Running FigerNERExtractor... 77%\n",
      "2022-02-27 19:49:27,338 - aset.status - INFO - Running FigerNERExtractor... 82%\n",
      "2022-02-27 19:49:28,400 - aset.status - INFO - Running FigerNERExtractor... 87%\n",
      "2022-02-27 19:49:29,233 - aset.status - INFO - Running FigerNERExtractor... 92%\n",
      "2022-02-27 19:49:31,498 - aset.status - INFO - Running FigerNERExtractor... 97%\n",
      "2022-02-27 19:49:32,316 - aset.status - INFO - Running FigerNERExtractor... 100%\n",
      "2022-02-27 19:49:32,317 - aset.configuration - INFO - Executed FigerNERExtractor in 149.7764801979065 seconds.\n",
      "2022-02-27 19:49:32,317 - aset.status - INFO - Running the pipeline... 100%\n",
      "2022-02-27 19:49:32,317 - aset.configuration - INFO - Executed the pipeline in 149.77745079994202 seconds.\n",
      "2022-02-27 19:49:32,898 - aset.configuration - INFO - Execute the pipeline.\n",
      "2022-02-27 19:49:32,899 - aset.status - INFO - Running the pipeline... ~%\n",
      "2022-02-27 19:49:32,899 - aset.configuration - INFO - Execute FigerNERExtractor.\n",
      "2022-02-27 19:49:32,899 - aset.status - INFO - Running FigerNERExtractor... ~%\n",
      "2022-02-27 19:49:32,900 - aset.status - INFO - Running FigerNERExtractor... 0%\n",
      "2022-02-27 19:49:36,371 - aset.status - INFO - Running FigerNERExtractor... 5%\n",
      "2022-02-27 19:49:39,177 - aset.status - INFO - Running FigerNERExtractor... 10%\n",
      "2022-02-27 19:49:41,904 - aset.status - INFO - Running FigerNERExtractor... 15%\n",
      "2022-02-27 19:49:46,310 - aset.status - INFO - Running FigerNERExtractor... 20%\n",
      "2022-02-27 19:49:55,514 - aset.status - INFO - Running FigerNERExtractor... 25%\n",
      "2022-02-27 19:50:01,722 - aset.status - INFO - Running FigerNERExtractor... 30%\n",
      "2022-02-27 19:50:06,137 - aset.status - INFO - Running FigerNERExtractor... 35%\n",
      "2022-02-27 19:50:10,432 - aset.status - INFO - Running FigerNERExtractor... 40%\n",
      "2022-02-27 19:50:17,284 - aset.status - INFO - Running FigerNERExtractor... 45%\n",
      "2022-02-27 19:50:30,726 - aset.status - INFO - Running FigerNERExtractor... 50%\n",
      "2022-02-27 19:50:33,432 - aset.status - INFO - Running FigerNERExtractor... 55%\n",
      "2022-02-27 19:50:38,536 - aset.status - INFO - Running FigerNERExtractor... 60%\n",
      "2022-02-27 19:50:45,181 - aset.status - INFO - Running FigerNERExtractor... 65%\n",
      "2022-02-27 19:50:48,122 - aset.status - INFO - Running FigerNERExtractor... 70%\n",
      "2022-02-27 19:50:58,968 - aset.preprocessing.extraction - WARNING - Failed to run FIGER on document 'AAR-14-03'\n",
      "2022-02-27 19:51:04,716 - aset.status - INFO - Running FigerNERExtractor... 75%\n",
      "2022-02-27 19:51:14,900 - aset.preprocessing.extraction - WARNING - Failed to run FIGER on document 'AAR-19-01'\n",
      "2022-02-27 19:51:14,924 - aset.preprocessing.extraction - WARNING - Failed to run FIGER on document 'AAR-19-02'\n",
      "2022-02-27 19:51:14,924 - aset.status - INFO - Running FigerNERExtractor... 80%\n",
      "2022-02-27 19:51:26,441 - aset.status - INFO - Running FigerNERExtractor... 85%\n",
      "2022-02-27 19:51:28,856 - aset.preprocessing.extraction - WARNING - Failed to run FIGER on document 'AAR1401'\n",
      "2022-02-27 19:51:30,417 - aset.status - INFO - Running FigerNERExtractor... 90%\n",
      "2022-02-27 19:51:36,914 - aset.status - INFO - Running FigerNERExtractor... 95%\n",
      "2022-02-27 19:51:42,747 - aset.preprocessing.extraction - WARNING - Failed to run FIGER on document 'AIR-14-01'\n",
      "2022-02-27 19:51:43,278 - aset.status - INFO - Running FigerNERExtractor... 100%\n",
      "2022-02-27 19:51:43,278 - aset.configuration - INFO - Executed FigerNERExtractor in 130.37908673286438 seconds.\n",
      "2022-02-27 19:51:43,279 - aset.status - INFO - Running the pipeline... 100%\n",
      "2022-02-27 19:51:43,280 - aset.configuration - INFO - Executed the pipeline in 130.38070797920227 seconds.\n",
      "2022-02-27 19:51:43,868 - aset.configuration - INFO - Execute the pipeline.\n",
      "2022-02-27 19:51:43,869 - aset.status - INFO - Running the pipeline... ~%\n",
      "2022-02-27 19:51:43,869 - aset.configuration - INFO - Execute FigerNERExtractor.\n",
      "2022-02-27 19:51:43,870 - aset.status - INFO - Running FigerNERExtractor... ~%\n",
      "2022-02-27 19:51:43,870 - aset.status - INFO - Running FigerNERExtractor... 0%\n",
      "2022-02-27 19:51:49,745 - aset.status - INFO - Running FigerNERExtractor... 5%\n",
      "2022-02-27 19:51:54,480 - aset.status - INFO - Running FigerNERExtractor... 10%\n",
      "2022-02-27 19:51:58,997 - aset.status - INFO - Running FigerNERExtractor... 15%\n",
      "2022-02-27 19:52:04,433 - aset.status - INFO - Running FigerNERExtractor... 20%\n",
      "2022-02-27 19:52:09,722 - aset.status - INFO - Running FigerNERExtractor... 25%\n",
      "2022-02-27 19:52:14,078 - aset.status - INFO - Running FigerNERExtractor... 30%\n",
      "2022-02-27 19:52:18,964 - aset.status - INFO - Running FigerNERExtractor... 35%\n",
      "2022-02-27 19:52:23,587 - aset.status - INFO - Running FigerNERExtractor... 40%\n",
      "2022-02-27 19:52:28,143 - aset.status - INFO - Running FigerNERExtractor... 45%\n",
      "2022-02-27 19:52:32,313 - aset.status - INFO - Running FigerNERExtractor... 50%\n",
      "2022-02-27 19:52:36,167 - aset.status - INFO - Running FigerNERExtractor... 55%\n",
      "2022-02-27 19:52:39,963 - aset.status - INFO - Running FigerNERExtractor... 60%\n",
      "2022-02-27 19:52:43,477 - aset.status - INFO - Running FigerNERExtractor... 65%\n",
      "2022-02-27 19:52:47,184 - aset.status - INFO - Running FigerNERExtractor... 70%\n",
      "2022-02-27 19:52:50,765 - aset.status - INFO - Running FigerNERExtractor... 75%\n",
      "2022-02-27 19:52:54,208 - aset.status - INFO - Running FigerNERExtractor... 80%\n",
      "2022-02-27 19:52:57,755 - aset.status - INFO - Running FigerNERExtractor... 85%\n",
      "2022-02-27 19:53:03,859 - aset.status - INFO - Running FigerNERExtractor... 90%\n",
      "2022-02-27 19:53:09,944 - aset.status - INFO - Running FigerNERExtractor... 95%\n",
      "2022-02-27 19:53:16,327 - aset.status - INFO - Running FigerNERExtractor... 100%\n",
      "2022-02-27 19:53:16,328 - aset.configuration - INFO - Executed FigerNERExtractor in 92.45776772499084 seconds.\n",
      "2022-02-27 19:53:16,329 - aset.status - INFO - Running the pipeline... 100%\n",
      "2022-02-27 19:53:16,329 - aset.configuration - INFO - Executed the pipeline in 92.45980787277222 seconds.\n",
      "2022-02-27 19:53:18,010 - aset.configuration - INFO - Execute the pipeline.\n",
      "2022-02-27 19:53:18,011 - aset.status - INFO - Running the pipeline... ~%\n",
      "2022-02-27 19:53:18,012 - aset.configuration - INFO - Execute FigerNERExtractor.\n",
      "2022-02-27 19:53:18,013 - aset.status - INFO - Running FigerNERExtractor... ~%\n",
      "2022-02-27 19:53:18,014 - aset.status - INFO - Running FigerNERExtractor... 0%\n",
      "2022-02-27 19:53:43,033 - aset.status - INFO - Running FigerNERExtractor... 5%\n",
      "2022-02-27 19:54:09,483 - aset.status - INFO - Running FigerNERExtractor... 10%\n",
      "2022-02-27 19:54:28,418 - aset.status - INFO - Running FigerNERExtractor... 14%\n",
      "2022-02-27 19:54:51,520 - aset.status - INFO - Running FigerNERExtractor... 19%\n",
      "2022-02-27 19:55:10,180 - aset.status - INFO - Running FigerNERExtractor... 24%\n",
      "2022-02-27 19:55:36,634 - aset.status - INFO - Running FigerNERExtractor... 29%\n",
      "2022-02-27 19:56:02,192 - aset.status - INFO - Running FigerNERExtractor... 34%\n",
      "2022-02-27 19:56:21,142 - aset.status - INFO - Running FigerNERExtractor... 39%\n",
      "2022-02-27 19:56:42,753 - aset.status - INFO - Running FigerNERExtractor... 43%\n",
      "2022-02-27 19:57:12,865 - aset.status - INFO - Running FigerNERExtractor... 48%\n",
      "2022-02-27 19:57:39,741 - aset.status - INFO - Running FigerNERExtractor... 53%\n",
      "2022-02-27 19:57:53,042 - aset.status - INFO - Running FigerNERExtractor... 58%\n",
      "2022-02-27 19:58:10,060 - aset.status - INFO - Running FigerNERExtractor... 63%\n",
      "2022-02-27 19:58:28,156 - aset.status - INFO - Running FigerNERExtractor... 67%\n",
      "2022-02-27 19:58:58,817 - aset.status - INFO - Running FigerNERExtractor... 72%\n",
      "2022-02-27 19:59:40,093 - aset.status - INFO - Running FigerNERExtractor... 77%\n",
      "2022-02-27 20:01:13,903 - aset.status - INFO - Running FigerNERExtractor... 82%\n",
      "2022-02-27 20:01:54,200 - aset.status - INFO - Running FigerNERExtractor... 87%\n",
      "2022-02-27 20:02:12,635 - aset.status - INFO - Running FigerNERExtractor... 91%\n",
      "2022-02-27 20:02:28,272 - aset.status - INFO - Running FigerNERExtractor... 96%\n",
      "2022-02-27 20:02:40,449 - aset.status - INFO - Running FigerNERExtractor... 100%\n",
      "2022-02-27 20:02:40,450 - aset.configuration - INFO - Executed FigerNERExtractor in 562.4372627735138 seconds.\n",
      "2022-02-27 20:02:40,450 - aset.status - INFO - Running the pipeline... 100%\n",
      "2022-02-27 20:02:40,451 - aset.configuration - INFO - Executed the pipeline in 562.4400219917297 seconds.\n",
      "2022-02-27 20:02:41,550 - aset.configuration - INFO - Execute the pipeline.\n",
      "2022-02-27 20:02:41,550 - aset.status - INFO - Running the pipeline... ~%\n",
      "2022-02-27 20:02:41,552 - aset.configuration - INFO - Execute FigerNERExtractor.\n",
      "2022-02-27 20:02:41,552 - aset.status - INFO - Running FigerNERExtractor... ~%\n",
      "2022-02-27 20:02:41,552 - aset.status - INFO - Running FigerNERExtractor... 0%\n",
      "2022-02-27 20:02:53,436 - aset.status - INFO - Running FigerNERExtractor... 5%\n",
      "2022-02-27 20:02:56,968 - aset.status - INFO - Running FigerNERExtractor... 10%\n",
      "2022-02-27 20:03:03,002 - aset.status - INFO - Running FigerNERExtractor... 14%\n",
      "2022-02-27 20:03:11,457 - aset.status - INFO - Running FigerNERExtractor... 19%\n",
      "2022-02-27 20:03:22,268 - aset.status - INFO - Running FigerNERExtractor... 24%\n",
      "2022-02-27 20:03:25,783 - aset.status - INFO - Running FigerNERExtractor... 29%\n",
      "2022-02-27 20:03:33,929 - aset.status - INFO - Running FigerNERExtractor... 33%\n",
      "2022-02-27 20:03:45,384 - aset.status - INFO - Running FigerNERExtractor... 38%\n",
      "2022-02-27 20:03:51,284 - aset.status - INFO - Running FigerNERExtractor... 43%\n",
      "2022-02-27 20:03:55,643 - aset.status - INFO - Running FigerNERExtractor... 48%\n",
      "2022-02-27 20:03:59,712 - aset.status - INFO - Running FigerNERExtractor... 53%\n",
      "2022-02-27 20:04:04,902 - aset.status - INFO - Running FigerNERExtractor... 57%\n",
      "2022-02-27 20:04:08,058 - aset.status - INFO - Running FigerNERExtractor... 62%\n",
      "2022-02-27 20:04:13,595 - aset.status - INFO - Running FigerNERExtractor... 67%\n",
      "2022-02-27 20:04:32,369 - aset.status - INFO - Running FigerNERExtractor... 72%\n",
      "2022-02-27 20:04:38,278 - aset.status - INFO - Running FigerNERExtractor... 77%\n",
      "2022-02-27 20:04:43,877 - aset.status - INFO - Running FigerNERExtractor... 81%\n",
      "2022-02-27 20:04:49,916 - aset.status - INFO - Running FigerNERExtractor... 86%\n",
      "2022-02-27 20:04:58,292 - aset.status - INFO - Running FigerNERExtractor... 91%\n",
      "2022-02-27 20:05:04,245 - aset.status - INFO - Running FigerNERExtractor... 96%\n",
      "2022-02-27 20:05:18,853 - aset.status - INFO - Running FigerNERExtractor... 100%\n",
      "2022-02-27 20:05:18,854 - aset.configuration - INFO - Executed FigerNERExtractor in 157.30262112617493 seconds.\n",
      "2022-02-27 20:05:18,854 - aset.status - INFO - Running the pipeline... 100%\n",
      "2022-02-27 20:05:18,856 - aset.configuration - INFO - Executed the pipeline in 157.3050742149353 seconds.\n",
      "2022-02-27 20:05:32,622 - aset.configuration - INFO - Execute the pipeline.\n",
      "2022-02-27 20:05:32,623 - aset.status - INFO - Running the pipeline... ~%\n",
      "2022-02-27 20:05:32,624 - aset.configuration - INFO - Execute FigerNERExtractor.\n",
      "2022-02-27 20:05:32,624 - aset.status - INFO - Running FigerNERExtractor... ~%\n",
      "2022-02-27 20:05:32,624 - aset.status - INFO - Running FigerNERExtractor... 0%\n",
      "2022-02-27 20:06:41,931 - aset.status - INFO - Running FigerNERExtractor... 5%\n",
      "2022-02-27 20:08:33,577 - aset.status - INFO - Running FigerNERExtractor... 10%\n",
      "2022-02-27 20:09:21,492 - aset.status - INFO - Running FigerNERExtractor... 15%\n",
      "2022-02-27 20:10:02,746 - aset.status - INFO - Running FigerNERExtractor... 20%\n",
      "2022-02-27 20:10:57,828 - aset.status - INFO - Running FigerNERExtractor... 25%\n",
      "2022-02-27 20:11:43,978 - aset.status - INFO - Running FigerNERExtractor... 30%\n",
      "2022-02-27 20:12:35,174 - aset.status - INFO - Running FigerNERExtractor... 35%\n",
      "2022-02-27 20:13:35,287 - aset.status - INFO - Running FigerNERExtractor... 40%\n",
      "2022-02-27 20:14:42,930 - aset.status - INFO - Running FigerNERExtractor... 45%\n",
      "2022-02-27 20:16:39,121 - aset.status - INFO - Running FigerNERExtractor... 50%\n",
      "2022-02-27 20:17:24,368 - aset.status - INFO - Running FigerNERExtractor... 55%\n",
      "2022-02-27 20:18:06,728 - aset.status - INFO - Running FigerNERExtractor... 60%\n",
      "2022-02-27 20:18:49,982 - aset.status - INFO - Running FigerNERExtractor... 65%\n",
      "2022-02-27 20:19:38,202 - aset.status - INFO - Running FigerNERExtractor... 70%\n",
      "2022-02-27 20:20:28,179 - aset.status - INFO - Running FigerNERExtractor... 75%\n",
      "2022-02-27 20:21:23,112 - aset.status - INFO - Running FigerNERExtractor... 80%\n",
      "2022-02-27 20:23:53,208 - aset.status - INFO - Running FigerNERExtractor... 85%\n",
      "2022-02-27 20:24:41,522 - aset.status - INFO - Running FigerNERExtractor... 90%\n",
      "2022-02-27 20:25:28,651 - aset.status - INFO - Running FigerNERExtractor... 95%\n",
      "2022-02-27 20:26:21,406 - aset.status - INFO - Running FigerNERExtractor... 100%\n",
      "2022-02-27 20:26:22,402 - aset.status - INFO - Running FigerNERExtractor... 100%\n",
      "2022-02-27 20:26:22,403 - aset.configuration - INFO - Executed FigerNERExtractor in 1249.7792654037476 seconds.\n",
      "2022-02-27 20:26:22,403 - aset.status - INFO - Running the pipeline... 100%\n",
      "2022-02-27 20:26:22,403 - aset.configuration - INFO - Executed the pipeline in 1249.7808856964111 seconds.\n"
     ]
    }
   ],
   "source": [
    "ground_truth = {}\n",
    "results_absolute = {}\n",
    "results_relative = {}\n",
    "\n",
    "for dataset_name, dataset in DATASETS:\n",
    "    documents = dataset.load_dataset()\n",
    "\n",
    "    ################################################################################################################\n",
    "    # document base\n",
    "    ################################################################################################################\n",
    "    # select the \"user-provided\" attribute names and create mappings between them and the dataset's attribute names\n",
    "    user_attribute_names = dataset.ATTRIBUTES\n",
    "    user_attribute_name2attribute_name = {\n",
    "        u_attr_name: attr_name for u_attr_name, attr_name in zip(user_attribute_names, dataset.ATTRIBUTES)\n",
    "    }\n",
    "\n",
    "    results_absolute[dataset_name] = {}\n",
    "    results_relative[dataset_name] = {}\n",
    "    ground_truth[dataset_name] = {}\n",
    "    for attribute in dataset.ATTRIBUTES:\n",
    "        ground_truth[dataset_name][attribute] = 0\n",
    "        for document in documents:\n",
    "            if document[\"mentions\"][attribute]:\n",
    "                ground_truth[dataset_name][attribute] += 1\n",
    "\n",
    "    document_base = ASETDocumentBase(\n",
    "        documents=[ASETDocument(doc[\"id\"], doc[\"text\"]) for doc in documents],\n",
    "        attributes=[ASETAttribute(attribute_name) for attribute_name in user_attribute_names]\n",
    "    )\n",
    "\n",
    "    for extractor_name, extractor in EXTRACTORS:\n",
    "        statistics = Statistics(do_collect=True)\n",
    "\n",
    "        results_absolute[dataset_name][extractor_name] = {}\n",
    "        results_relative[dataset_name][extractor_name] = {}\n",
    "\n",
    "        statistics[\"user_provided_attribute_names\"] = user_attribute_names\n",
    "        statistics[\"dataset\"][\"dataset_name\"] = dataset.NAME\n",
    "        statistics[\"dataset\"][\"attributes\"] = dataset.ATTRIBUTES\n",
    "        statistics[\"dataset\"][\"num_documents\"] = len(documents)\n",
    "\n",
    "        aset_pipeline = ASETPipeline([\n",
    "                extractor,\n",
    "        ])\n",
    "\n",
    "        statistics[\"preprocessing\"][\"config\"] = aset_pipeline.to_config()\n",
    "\n",
    "        aset_pipeline(\n",
    "            document_base=document_base,\n",
    "            interaction_callback=EmptyInteractionCallback(),\n",
    "            status_callback=EmptyStatusCallback(),\n",
    "            statistics=statistics[\"preprocessing\"]\n",
    "        )\n",
    "\n",
    "        for attribute in dataset.ATTRIBUTES:\n",
    "            results_absolute[dataset_name][extractor_name][attribute] = 0\n",
    "\n",
    "            statistics[\"preprocessing\"][\"results\"][\"num_extracted\"][attribute] = 0\n",
    "            for document, aset_document in zip(documents, document_base.documents):\n",
    "                match = False\n",
    "                for mention in document[\"mentions\"][attribute]:\n",
    "                    for nugget in aset_document.nuggets:\n",
    "                        if consider_overlap_as_match(mention[\"start_char\"], mention[\"end_char\"],\n",
    "                                                     nugget.start_char, nugget.end_char):\n",
    "                            match = True\n",
    "                            break\n",
    "                if match:\n",
    "                    results_absolute[dataset_name][extractor_name][attribute] += 1\n",
    "                    statistics[\"preprocessing\"][\"results\"][\"num_extracted\"][attribute] += 1\n",
    "\n",
    "            results_relative[dataset_name][extractor_name][attribute] = results_absolute[dataset_name][extractor_name][attribute] / ground_truth[dataset_name][attribute]"
   ],
   "metadata": {
    "collapsed": false,
    "pycharm": {
     "name": "#%%\n"
    }
   }
  },
  {
   "cell_type": "code",
   "execution_count": 8,
   "outputs": [],
   "source": [
    "OUT_PATH = \"experiments/results/extraction\""
   ],
   "metadata": {
    "collapsed": false,
    "pycharm": {
     "name": "#%%\n"
    }
   }
  },
  {
   "cell_type": "code",
   "execution_count": 9,
   "outputs": [],
   "source": [
    "for dataset_name, _ in DATASETS:\n",
    "    gt_df = pd.DataFrame.from_dict(results_relative[dataset_name], orient='index')\n",
    "\n",
    "    with open(f\"{OUT_PATH}/{dataset_name}.csv\", \"w\") as out_file:\n",
    "        gt_df.to_csv(out_file)"
   ],
   "metadata": {
    "collapsed": false,
    "pycharm": {
     "name": "#%%\n"
    }
   }
  },
  {
   "cell_type": "code",
   "execution_count": 11,
   "outputs": [
    {
     "data": {
      "text/plain": "                           0\ndate                     100\nnew_cases                 98\nnew_deaths                98\nincidence                100\npatients_intensive_care   99\nvaccinated                53\ntwice_vaccinated          33",
      "text/html": "<div>\n<style scoped>\n    .dataframe tbody tr th:only-of-type {\n        vertical-align: middle;\n    }\n\n    .dataframe tbody tr th {\n        vertical-align: top;\n    }\n\n    .dataframe thead th {\n        text-align: right;\n    }\n</style>\n<table border=\"1\" class=\"dataframe\">\n  <thead>\n    <tr style=\"text-align: right;\">\n      <th></th>\n      <th>0</th>\n    </tr>\n  </thead>\n  <tbody>\n    <tr>\n      <th>date</th>\n      <td>100</td>\n    </tr>\n    <tr>\n      <th>new_cases</th>\n      <td>98</td>\n    </tr>\n    <tr>\n      <th>new_deaths</th>\n      <td>98</td>\n    </tr>\n    <tr>\n      <th>incidence</th>\n      <td>100</td>\n    </tr>\n    <tr>\n      <th>patients_intensive_care</th>\n      <td>99</td>\n    </tr>\n    <tr>\n      <th>vaccinated</th>\n      <td>53</td>\n    </tr>\n    <tr>\n      <th>twice_vaccinated</th>\n      <td>33</td>\n    </tr>\n  </tbody>\n</table>\n</div>"
     },
     "execution_count": 11,
     "metadata": {},
     "output_type": "execute_result"
    }
   ],
   "source": [
    "pd.DataFrame.from_dict(ground_truth[\"corona\"], orient='index')"
   ],
   "metadata": {
    "collapsed": false,
    "pycharm": {
     "name": "#%%\n"
    }
   }
  },
  {
   "cell_type": "code",
   "execution_count": null,
   "outputs": [],
   "source": [],
   "metadata": {
    "collapsed": false,
    "pycharm": {
     "name": "#%%\n"
    }
   }
  }
 ],
 "metadata": {
  "kernelspec": {
   "display_name": "Python 3",
   "language": "python",
   "name": "python3"
  },
  "language_info": {
   "codemirror_mode": {
    "name": "ipython",
    "version": 2
   },
   "file_extension": ".py",
   "mimetype": "text/x-python",
   "name": "python",
   "nbconvert_exporter": "python",
   "pygments_lexer": "ipython2",
   "version": "2.7.6"
  }
 },
 "nbformat": 4,
 "nbformat_minor": 0
}