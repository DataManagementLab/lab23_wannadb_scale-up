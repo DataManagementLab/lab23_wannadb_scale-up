{
 "cells": [
  {
   "cell_type": "code",
   "execution_count": 18,
   "outputs": [],
   "source": [
    "import collections"
   ],
   "metadata": {
    "collapsed": false
   }
  },
  {
   "cell_type": "markdown",
   "source": [
    "# Compute the Grouping Scores"
   ],
   "metadata": {
    "collapsed": false
   }
  },
  {
   "cell_type": "markdown",
   "source": [
    "## Raw Results: Nobel Country"
   ],
   "metadata": {
    "collapsed": false
   }
  },
  {
   "cell_type": "code",
   "execution_count": 19,
   "outputs": [],
   "source": [
    "true_clusters = [[('American', 'Q104651'), ('American', 'Q106454'), ('American', 'Q106949'), ('American', 'Q107407'), ('American', 'Q107416'), ('American', 'Q107419'), ('American', 'Q107420'), ('American', 'Q107450'), ('American', 'Q127234'), ('American', 'Q127944'), ('American', 'Q130113'), ('American', 'Q130975'), ('American', 'Q133222'), ('United States', 'Q148109'), ('American', 'Q153201'), ('United States', 'Q155790'), ('American', 'Q155794'), ('American', 'Q156286'), ('American', 'Q163415'), ('American', 'Q165969'), ('American', 'Q169366'), ('American', 'Q169577'), ('American', 'Q171034'), ('American', 'Q172118'), ('American', 'Q172466'), ('American', 'Q172840'), ('American', 'Q172877'), ('American', 'Q175519'), ('American', 'Q178344'), ('American', 'Q179282'), ('American', 'Q179572'), ('American', 'Q181369'), ('American', 'Q182031'), ('American', 'Q183270'), ('American', 'Q183655'), ('American', 'Q183679'), ('American', 'Q184566'), ('American', 'Q184577'), ('American', 'Q186465'), ('American', 'Q186481'), ('American', 'Q186497'), ('American', 'Q187822'), ('American', 'Q188120'), ('American', 'Q189741'), ('United States', 'Q189987'), ('USA', 'Q189997'), ('American', 'Q190495'), ('American', 'Q190503'), ('American', 'Q190745'), ('American', 'Q190756'), ('American', 'Q191922'), ('American', 'Q192106'), ('American', 'Q192685'), ('American', 'Q192695'), ('American', 'Q192708'), ('American', 'Q192715'), ('American', 'Q193496'), ('American', 'Q193503'), ('American', 'Q193655'), ('American', 'Q201506'), ('American', 'Q201853'), ('American', 'Q202138'), ('American', 'Q205954'), ('American', 'Q206379'), ('American', 'Q206390'), ('American', 'Q206499'), ('American', 'Q323320'), ('American', 'Q39246'), ('American', 'Q40262'), ('American', 'Q46120'), ('American', 'Q493956'), ('United States', 'Q57066'), ('American', 'Q57100'), ('American', 'Q61045'), ('American', 'Q64188'), ('American', 'Q65989'), ('American', 'Q70532'), ('American', 'Q730065'), ('American', 'Q76373'), ('American', 'Q80905'), ('American', 'Q82563'), ('United States', 'Q8753'), ('United States', 'Q937'), ('American', 'Q949')], [('Russian', 'Q104668'), ('Soviet', 'Q133267'), ('Soviet', 'Q155759'), ('Soviet', 'Q172844'), ('Soviet', 'Q183279'), ('Soviet', 'Q188128'), ('Soviet', 'Q192703'), ('Soviet', 'Q76970'), ('Soviet', 'Q83552'), ('Soviet', 'Q83557')], [('Swiss', 'Q123022'), ('Switzerland', 'Q123026'), ('Swiss', 'Q123029'), ('Swiss', 'Q123975')], [('Japan', 'Q155773'), ('Japan', 'Q202164'), ('Japan', 'Q202168')], [('Hong Kong', 'Q16389')], [('Canadian', 'Q192689'), ('Canadian', 'Q710597')], [('Swedish', 'Q192712')], [('Australia', 'Q201452')], [('West German', 'Q40904')], [('France', 'Q556543')], [('Germany', 'Q58978'), ('Germany', 'Q65807'), ('Germany', 'Q71016')], [('India', 'Q60429')], [('Denmark', 'Q7085')], [('Russian Empire', 'Q7186')]]"
   ],
   "metadata": {
    "collapsed": false
   }
  },
  {
   "cell_type": "code",
   "execution_count": 20,
   "outputs": [],
   "source": [
    "pred_clusters = [[('American', 'Q104651'), ('American', 'Q106454'), ('American', 'Q106949'), ('American', 'Q107407'), ('American', 'Q107416'), ('American', 'Q107419'), ('American', 'Q107420'), ('American', 'Q107450'), ('American', 'Q127234'), ('American', 'Q127944'), ('American', 'Q130113'), ('American', 'Q130975'), ('American', 'Q133222'), ('American', 'Q148109'), ('American', 'Q153201'), ('American', 'Q155794'), ('American', 'Q156286'), ('American', 'Q163415'), ('American', 'Q16389'), ('American', 'Q165969'), ('American', 'Q169366'), ('American', 'Q169577'), ('American', 'Q171034'), ('American', 'Q172118'), ('American', 'Q172466'), ('American', 'Q172840'), ('American', 'Q172877'), ('American', 'Q175519'), ('American', 'Q178344'), ('American', 'Q179282'), ('American', 'Q179572'), ('American', 'Q181369'), ('American', 'Q182031'), ('American', 'Q183270'), ('American', 'Q183655'), ('American', 'Q183679'), ('American', 'Q184566'), ('American', 'Q184577'), ('American', 'Q186465'), ('American', 'Q186481'), ('American', 'Q186497'), ('American', 'Q187822'), ('American', 'Q188120'), ('American', 'Q188128'), ('American', 'Q189741'), ('American', 'Q190495'), ('American', 'Q190503'), ('American', 'Q190745'), ('American', 'Q190756'), ('American', 'Q191922'), ('American', 'Q192106'), ('American', 'Q192685'), ('American', 'Q192695'), ('American', 'Q192708'), ('American', 'Q192715'), ('American', 'Q193496'), ('American', 'Q193503'), ('American', 'Q193655'), ('American', 'Q201506'), ('American', 'Q201853'), ('American', 'Q202138'), ('American', 'Q205954'), ('American', 'Q206379'), ('American', 'Q206390'), ('American', 'Q206499'), ('American', 'Q323320'), ('American', 'Q39246'), ('American', 'Q40262'), ('American', 'Q46120'), ('American', 'Q493956'), ('American', 'Q61045'), ('American', 'Q64188'), ('American', 'Q70532'), ('American', 'Q730065'), ('American', 'Q76373'), ('American', 'Q80905'), ('American', 'Q82563'), ('American', 'Q949'), ('the United States', 'Q155790'), ('the United States', 'Q189987'), ('the United States', 'Q57066'), ('the United States', 'Q57100'), ('the United States', 'Q71016'), ('the United States', 'Q8753'), ('the United States', 'Q937'), ('Canadian', 'Q192689'), ('Canadian', 'Q710597'), ('USA', 'Q189997')], [('Soviet', 'Q104668'), ('Soviet', 'Q133267'), ('Soviet', 'Q155759'), ('Soviet', 'Q172844'), ('Soviet', 'Q183279'), ('Soviet', 'Q192703'), ('Soviet', 'Q76970'), ('Soviet', 'Q83552'), ('Soviet', 'Q83557')], [('Swiss', 'Q123022'), ('Swiss', 'Q123026'), ('Swiss', 'Q123029'), ('Swiss', 'Q123975'), ('Swiss', 'Q65989')], [('Japan', 'Q155773'), ('Japan', 'Q202164'), ('Japan', 'Q202168')], [('Germany', 'Q58978'), ('Germany', 'Q65807')], [('West German', 'Q40904')], [('India', 'Q60429')], [('Denmark', 'Q7085')]]"
   ],
   "metadata": {
    "collapsed": false
   }
  },
  {
   "cell_type": "code",
   "execution_count": 21,
   "outputs": [],
   "source": [
    "true_clusters.sort(key=len, reverse=True)\n",
    "pred_clusters.sort(key=len, reverse=True)"
   ],
   "metadata": {
    "collapsed": false
   }
  },
  {
   "cell_type": "markdown",
   "source": [
    "### True Clusters:"
   ],
   "metadata": {
    "collapsed": false
   }
  },
  {
   "cell_type": "code",
   "execution_count": 22,
   "outputs": [
    {
     "name": "stdout",
     "output_type": "stream",
     "text": [
      "  0. 'American' x 77, 'United States' x 6, 'USA' x 1 (84 total)\n",
      "  1. 'Soviet' x 9, 'Russian' x 1 (10 total)\n",
      "  2. 'Swiss' x 3, 'Switzerland' x 1 (4 total)\n",
      "  3. 'Japan' x 3 (3 total)\n",
      "  4. 'Germany' x 3 (3 total)\n",
      "  5. 'Canadian' x 2 (2 total)\n",
      "  6. 'Hong Kong' x 1 (1 total)\n",
      "  7. 'Swedish' x 1 (1 total)\n",
      "  8. 'Australia' x 1 (1 total)\n",
      "  9. 'West German' x 1 (1 total)\n",
      " 10. 'France' x 1 (1 total)\n",
      " 11. 'India' x 1 (1 total)\n",
      " 12. 'Denmark' x 1 (1 total)\n",
      " 13. 'Russian Empire' x 1 (1 total)\n"
     ]
    }
   ],
   "source": [
    "for ix, entries in enumerate(true_clusters):\n",
    "    counter = collections.Counter(text for text, _ in entries)\n",
    "    print(f\"{ix}.\".rjust(4), \", \".join(f\"'{text}' x {count}\" for text, count in counter.most_common()),\n",
    "          f\"({len(entries)} total)\")"
   ],
   "metadata": {
    "collapsed": false
   }
  },
  {
   "cell_type": "markdown",
   "source": [
    "### Predicted Clusters:"
   ],
   "metadata": {
    "collapsed": false
   }
  },
  {
   "cell_type": "code",
   "execution_count": 23,
   "outputs": [
    {
     "name": "stdout",
     "output_type": "stream",
     "text": [
      "  0. 'American' x 78, 'the United States' x 7, 'Canadian' x 2, 'USA' x 1 (88 total)\n",
      "  1. 'Soviet' x 9 (9 total)\n",
      "  2. 'Swiss' x 5 (5 total)\n",
      "  3. 'Japan' x 3 (3 total)\n",
      "  4. 'Germany' x 2 (2 total)\n",
      "  5. 'West German' x 1 (1 total)\n",
      "  6. 'India' x 1 (1 total)\n",
      "  7. 'Denmark' x 1 (1 total)\n"
     ]
    }
   ],
   "source": [
    "for ix, entries in enumerate(pred_clusters):\n",
    "    counter = collections.Counter(text for text, _ in entries)\n",
    "    print(f\"{ix}.\".rjust(4), \", \".join(f\"'{text}' x {count}\" for text, count in counter.most_common()),\n",
    "          f\"({len(entries)} total)\")"
   ],
   "metadata": {
    "collapsed": false
   }
  },
  {
   "cell_type": "markdown",
   "source": [
    "### Computing Scores"
   ],
   "metadata": {
    "collapsed": false
   }
  },
  {
   "cell_type": "code",
   "execution_count": 24,
   "outputs": [],
   "source": [
    "# which clusters belong together:  (WE DID THIS STEP BY HAND)\n",
    "couples = [\n",
    "    # (true, pred)\n",
    "    (0, 0),\n",
    "    (1, 1),\n",
    "    (2, 2),\n",
    "    (3, 3),\n",
    "    (4, 4),\n",
    "    (5, None),\n",
    "    (6, None),\n",
    "    (7, None),\n",
    "    (8, None),\n",
    "    (9, 5),\n",
    "    (10, None),\n",
    "    (11, 6),\n",
    "    (12, 7),\n",
    "    (13, None)\n",
    "]"
   ],
   "metadata": {
    "collapsed": false
   }
  },
  {
   "cell_type": "code",
   "execution_count": 25,
   "outputs": [
    {
     "name": "stdout",
     "output_type": "stream",
     "text": [
      "Precision:  1.0\n",
      "Recall:  0.5714285714285714\n"
     ]
    }
   ],
   "source": [
    "TP, FP = 8, 0\n",
    "FN, TN = 6, 0\n",
    "precision = TP / (TP + FP)\n",
    "recall = TP / (TP + FN)\n",
    "print(\"Precision: \", precision)\n",
    "print(\"Recall: \", recall)"
   ],
   "metadata": {
    "collapsed": false
   }
  },
  {
   "cell_type": "code",
   "execution_count": 26,
   "outputs": [
    {
     "name": "stdout",
     "output_type": "stream",
     "text": [
      "Average Jaccard Index: 0.47754329004329005\n"
     ]
    }
   ],
   "source": [
    "jaccard_indices = []\n",
    "for true_idx, pred_idx in couples:\n",
    "    if true_idx is None or pred_idx is None:\n",
    "        jaccard = 0\n",
    "    else:\n",
    "        true_cluster = true_clusters[true_idx]\n",
    "        pred_cluster = pred_clusters[pred_idx]\n",
    "\n",
    "        x = set(true_cluster)\n",
    "        y = set(pred_cluster)\n",
    "        A_intersect_B = x.intersection(y)\n",
    "        A_union_B = x.union(y)\n",
    "\n",
    "        jaccard = len(A_intersect_B) / len(A_union_B)\n",
    "\n",
    "    jaccard_indices.append(jaccard)\n",
    "\n",
    "avg_jaccard = sum(jaccard_indices) / len(jaccard_indices)\n",
    "print(\"Average Jaccard Index:\", avg_jaccard)"
   ],
   "metadata": {
    "collapsed": false
   }
  },
  {
   "cell_type": "markdown",
   "source": [
    "## Raw Results: Country Continent"
   ],
   "metadata": {
    "collapsed": false
   }
  },
  {
   "cell_type": "code",
   "execution_count": 28,
   "outputs": [],
   "source": [
    "true_clusters = [[('Africa', 'Q1005'), ('Africa', 'Q1006'), ('Africa', 'Q1008'), ('Africa', 'Q1009'), ('Africa', 'Q1011'), ('Africa', 'Q1014'), ('Africa', 'Q1016'), ('Africa', 'Q1020'), ('Africa', 'Q1025'), ('Africa', 'Q1028'), ('Africa', 'Q1033'), ('Africa', 'Q1037'), ('Africa', 'Q1039'), ('Africa', 'Q1045'), ('Africa', 'Q1049'), ('Africa', 'Q1050'), ('Africa', 'Q114'), ('Africa', 'Q115'), ('Africa continent', 'Q117'), ('Africa', 'Q258'), ('Africa', 'Q262'), ('Africa', 'Q657'), ('Africa', 'Q79'), ('Africa', 'Q912'), ('Africa', 'Q916'), ('Africa', 'Q924'), ('Africa', 'Q945'), ('Africa', 'Q948'), ('Africa', 'Q963'), ('Africa', 'Q970'), ('Africa', 'Q971'), ('Africa', 'Q974'), ('Africa', 'Q977'), ('Africa', 'Q983')], [('Europe', 'Q142'), ('Europe', 'Q145'), ('Europe', 'Q184'), ('Europe', 'Q191'), ('Europe', 'Q212'), ('Europe', 'Q215'), ('Europe', 'Q217'), ('Europe', 'Q222'), ('Europe', 'Q228'), ('Europe', 'Q235'), ('Europe', 'Q238'), ('Europe', 'Q28'), ('Europe', 'Q31'), ('Europe', 'Q32'), ('Europe', 'Q34'), ('Europe', 'Q36'), ('Europe', 'Q38'), ('Europe', 'Q41'), ('Europe', 'Q43'), ('Europe', 'Q45')], [('Asia', 'Q148'), ('Asia', 'Q17'), ('Asia', 'Q334'), ('Asia', 'Q794'), ('Asia', 'Q801'), ('Asia', 'Q810'), ('Asian', 'Q819'), ('Asia', 'Q833'), ('Asia', 'Q843'), ('Asia', 'Q851'), ('Asia', 'Q884'), ('Asia', 'Q889'), ('Asia', 'Q917'), ('Asia', 'Q928')], [('South America', 'Q155'), ('South America', 'Q298'), ('South America', 'Q414'), ('South America', 'Q419'), ('South America', 'Q717'), ('South America', 'Q730'), ('South America', 'Q733'), ('South America', 'Q734'), ('South America', 'Q736'), ('South America', 'Q739'), ('South America', 'Q750'), ('South America', 'Q77'), ('South America', 'Q804')], [('North America', 'Q16'), ('North America', 'Q30'), ('Americas', 'Q781'), ('North America', 'Q790'), ('North America', 'Q96')], [('Eurasia', 'Q230')], [('Australian continent', 'Q408')], [('Oceania', 'Q685'), ('Pacific', 'Q686')], [('Central America', 'Q774')]]"
   ],
   "metadata": {
    "collapsed": false
   }
  },
  {
   "cell_type": "code",
   "execution_count": 29,
   "outputs": [],
   "source": [
    "pred_clusters = [[('Africa', 'Q1005'), ('Africa', 'Q1006'), ('Africa', 'Q1008'), ('Africa', 'Q1009'), ('Africa', 'Q1011'), ('Africa', 'Q1014'), ('Africa', 'Q1016'), ('Africa', 'Q1020'), ('Africa', 'Q1025'), ('Africa', 'Q1028'), ('Africa', 'Q1033'), ('Africa', 'Q1037'), ('Africa', 'Q1039'), ('Africa', 'Q1049'), ('Africa', 'Q1050'), ('Africa', 'Q114'), ('Africa', 'Q115'), ('Africa', 'Q117'), ('Africa', 'Q258'), ('Africa', 'Q262'), ('Africa', 'Q43'), ('Africa', 'Q657'), ('Africa', 'Q79'), ('Africa', 'Q810'), ('Africa', 'Q912'), ('Africa', 'Q916'), ('Africa', 'Q924'), ('Africa', 'Q945'), ('Africa', 'Q948'), ('Africa', 'Q963'), ('Africa', 'Q970'), ('Africa', 'Q974'), ('Africa', 'Q983')], [('Europe', 'Q142'), ('Europe', 'Q145'), ('Europe', 'Q184'), ('Europe', 'Q191'), ('Europe', 'Q212'), ('Europe', 'Q215'), ('Europe', 'Q217'), ('Europe', 'Q222'), ('Europe', 'Q228'), ('Europe', 'Q238'), ('Europe', 'Q28'), ('Europe', 'Q31'), ('Europe', 'Q32'), ('Europe', 'Q34'), ('Europe', 'Q36'), ('Europe', 'Q38'), ('Europe', 'Q41'), ('Europe', 'Q45'), ('Western Europe', 'Q235')], [('Asia', 'Q148'), ('Asia', 'Q17'), ('Asia', 'Q334'), ('Asia', 'Q794'), ('Asia', 'Q801'), ('Asia', 'Q833'), ('Asia', 'Q843'), ('Asia', 'Q851'), ('Asia', 'Q884'), ('Asia', 'Q889'), ('Asia', 'Q917'), ('Asia', 'Q928')], [('South America', 'Q155'), ('South America', 'Q414'), ('South America', 'Q419'), ('South America', 'Q717'), ('South America', 'Q730'), ('South America', 'Q733'), ('South America', 'Q734'), ('South America', 'Q736'), ('South America', 'Q739'), ('South America', 'Q750'), ('South America', 'Q77')], [('North America', 'Q16'), ('North America', 'Q30'), ('North America', 'Q790'), ('North America', 'Q96')], [('Oceania', 'Q298'), ('Oceania', 'Q685')], [('Central America', 'Q774'), ('Central America', 'Q804')], [('Eurasia', 'Q230')], [('Australian', 'Q408')], [('Pacific island', 'Q686')], [('Americas', 'Q781')], [('Equatorial Africa', 'Q971')]]"
   ],
   "metadata": {
    "collapsed": false
   }
  },
  {
   "cell_type": "code",
   "execution_count": 30,
   "outputs": [],
   "source": [
    "true_clusters.sort(key=len, reverse=True)\n",
    "pred_clusters.sort(key=len, reverse=True)"
   ],
   "metadata": {
    "collapsed": false
   }
  },
  {
   "cell_type": "markdown",
   "source": [
    "### True Clusters:"
   ],
   "metadata": {
    "collapsed": false
   }
  },
  {
   "cell_type": "code",
   "execution_count": 31,
   "outputs": [
    {
     "name": "stdout",
     "output_type": "stream",
     "text": [
      "  0. 'Africa' x 33, 'Africa continent' x 1 (34 total)\n",
      "  1. 'Europe' x 20 (20 total)\n",
      "  2. 'Asia' x 13, 'Asian' x 1 (14 total)\n",
      "  3. 'South America' x 13 (13 total)\n",
      "  4. 'North America' x 4, 'Americas' x 1 (5 total)\n",
      "  5. 'Oceania' x 1, 'Pacific' x 1 (2 total)\n",
      "  6. 'Eurasia' x 1 (1 total)\n",
      "  7. 'Australian continent' x 1 (1 total)\n",
      "  8. 'Central America' x 1 (1 total)\n"
     ]
    }
   ],
   "source": [
    "for ix, entries in enumerate(true_clusters):\n",
    "    counter = collections.Counter(text for text, _ in entries)\n",
    "    print(f\"{ix}.\".rjust(4), \", \".join(f\"'{text}' x {count}\" for text, count in counter.most_common()),\n",
    "          f\"({len(entries)} total)\")"
   ],
   "metadata": {
    "collapsed": false
   }
  },
  {
   "cell_type": "markdown",
   "source": [
    "### Predicted Clusters:"
   ],
   "metadata": {
    "collapsed": false
   }
  },
  {
   "cell_type": "code",
   "execution_count": 32,
   "outputs": [
    {
     "name": "stdout",
     "output_type": "stream",
     "text": [
      "  0. 'Africa' x 33 (33 total)\n",
      "  1. 'Europe' x 18, 'Western Europe' x 1 (19 total)\n",
      "  2. 'Asia' x 12 (12 total)\n",
      "  3. 'South America' x 11 (11 total)\n",
      "  4. 'North America' x 4 (4 total)\n",
      "  5. 'Oceania' x 2 (2 total)\n",
      "  6. 'Central America' x 2 (2 total)\n",
      "  7. 'Eurasia' x 1 (1 total)\n",
      "  8. 'Australian' x 1 (1 total)\n",
      "  9. 'Pacific island' x 1 (1 total)\n",
      " 10. 'Americas' x 1 (1 total)\n",
      " 11. 'Equatorial Africa' x 1 (1 total)\n"
     ]
    }
   ],
   "source": [
    "for ix, entries in enumerate(pred_clusters):\n",
    "    counter = collections.Counter(text for text, _ in entries)\n",
    "    print(f\"{ix}.\".rjust(4), \", \".join(f\"'{text}' x {count}\" for text, count in counter.most_common()),\n",
    "          f\"({len(entries)} total)\")"
   ],
   "metadata": {
    "collapsed": false
   }
  },
  {
   "cell_type": "markdown",
   "source": [
    "### Computing Scores"
   ],
   "metadata": {
    "collapsed": false
   }
  },
  {
   "cell_type": "code",
   "execution_count": 33,
   "outputs": [],
   "source": [
    "# which clusters belong together:  (WE DID THIS STEP BY HAND)\n",
    "couples = [\n",
    "    # (true, pred)\n",
    "    (0, 0),\n",
    "    (1, 1),\n",
    "    (2, 2),\n",
    "    (3, 3),\n",
    "    (4, 4),\n",
    "    (5, 5),\n",
    "    (6, 7),\n",
    "    (7, 8),\n",
    "    (8, 6),\n",
    "    (None, 9),\n",
    "    (None, 10),\n",
    "    (None, 11)\n",
    "]"
   ],
   "metadata": {
    "collapsed": false
   }
  },
  {
   "cell_type": "code",
   "execution_count": 34,
   "outputs": [
    {
     "name": "stdout",
     "output_type": "stream",
     "text": [
      "Precision:  0.75\n",
      "Recall:  1.0\n"
     ]
    }
   ],
   "source": [
    "TP, FP = 9, 3\n",
    "FN, TN = 0, 0\n",
    "precision = TP / (TP + FP)\n",
    "recall = TP / (TP + FN)\n",
    "print(\"Precision: \", precision)\n",
    "print(\"Recall: \", recall)"
   ],
   "metadata": {
    "collapsed": false
   }
  },
  {
   "cell_type": "code",
   "execution_count": 35,
   "outputs": [
    {
     "name": "stdout",
     "output_type": "stream",
     "text": [
      "Average Jaccard Index: 0.5003819753819754\n"
     ]
    }
   ],
   "source": [
    "jaccard_indices = []\n",
    "for true_idx, pred_idx in couples:\n",
    "    if true_idx is None or pred_idx is None:\n",
    "        jaccard = 0\n",
    "    else:\n",
    "        true_cluster = true_clusters[true_idx]\n",
    "        pred_cluster = pred_clusters[pred_idx]\n",
    "\n",
    "        x = set(true_cluster)\n",
    "        y = set(pred_cluster)\n",
    "        A_intersect_B = x.intersection(y)\n",
    "        A_union_B = x.union(y)\n",
    "\n",
    "        jaccard = len(A_intersect_B) / len(A_union_B)\n",
    "\n",
    "    jaccard_indices.append(jaccard)\n",
    "\n",
    "avg_jaccard = sum(jaccard_indices) / len(jaccard_indices)\n",
    "print(\"Average Jaccard Index:\", avg_jaccard)"
   ],
   "metadata": {
    "collapsed": false
   }
  }
 ],
 "metadata": {
  "kernelspec": {
   "display_name": "Python 3",
   "language": "python",
   "name": "python3"
  },
  "language_info": {
   "codemirror_mode": {
    "name": "ipython",
    "version": 2
   },
   "file_extension": ".py",
   "mimetype": "text/x-python",
   "name": "python",
   "nbconvert_exporter": "python",
   "pygments_lexer": "ipython2",
   "version": "2.7.6"
  }
 },
 "nbformat": 4,
 "nbformat_minor": 0
}
